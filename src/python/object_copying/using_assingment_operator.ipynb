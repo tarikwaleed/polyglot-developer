{
 "cells": [
  {
   "cell_type": "markdown",
   "metadata": {},
   "source": [
    "creating new objects using assignment operator `=` is not even copying, this is just creates new variable in memory and assign to it the location of the original object."
   ]
  },
  {
   "cell_type": "code",
   "execution_count": 2,
   "metadata": {},
   "outputs": [
    {
     "name": "stdout",
     "output_type": "stream",
     "text": [
      "original location in memory:140456437504576\n",
      "the_copy location in memory:140456437504576\n",
      "same locaiton? True\n"
     ]
    }
   ],
   "source": [
    "original = {\n",
    "    \"name\": \"tarik\",\n",
    "    \"age\": 28,\n",
    "    \"address\": {\"city\": \"october\", \"state\": \"giza\", \"postal_code\": 78964},\n",
    "    \"favourite_colors\": [\"navy\", \"tan\", \"grey\"],\n",
    "}\n",
    "print(f\"original location in memory:{id(original)}\")\n",
    "the_copy = original\n",
    "print(f\"the_copy location in memory:{id(the_copy)}\")\n",
    "print(f'same locaiton? {id(original)==id(the_copy)}')\n",
    "\n"
   ]
  }
 ],
 "metadata": {
  "kernelspec": {
   "display_name": "venv",
   "language": "python",
   "name": "python3"
  },
  "language_info": {
   "codemirror_mode": {
    "name": "ipython",
    "version": 3
   },
   "file_extension": ".py",
   "mimetype": "text/x-python",
   "name": "python",
   "nbconvert_exporter": "python",
   "pygments_lexer": "ipython3",
   "version": "3.8.10"
  }
 },
 "nbformat": 4,
 "nbformat_minor": 2
}
