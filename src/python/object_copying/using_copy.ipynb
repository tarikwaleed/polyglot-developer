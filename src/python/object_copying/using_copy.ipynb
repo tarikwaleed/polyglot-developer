{
 "cells": [
  {
   "cell_type": "code",
   "execution_count": 33,
   "metadata": {},
   "outputs": [],
   "source": [
    "original_dict = {\n",
    "    \"str_key\": \"tarik\",\n",
    "    \"int_key\": 28,\n",
    "    \"list_key\": [1, 2, 3],\n",
    "    \"tuple_key\": (1, 2, 3),\n",
    "    \"dict_key\": {\"city\": \"giza\", \"state\": \"october\"},\n",
    "}"
   ]
  },
  {
   "cell_type": "markdown",
   "metadata": {},
   "source": [
    "**making a copy using `copy.copy()`**"
   ]
  },
  {
   "cell_type": "code",
   "execution_count": 34,
   "metadata": {},
   "outputs": [
    {
     "name": "stdout",
     "output_type": "stream",
     "text": [
      "same locaiton? False\n"
     ]
    }
   ],
   "source": [
    "import copy\n",
    "copy_dict = copy.copy(original_dict)\n",
    "print(f\"same locaiton? {id(original_dict)==id(copy_dict)}\")"
   ]
  },
  {
   "cell_type": "code",
   "execution_count": 35,
   "metadata": {},
   "outputs": [
    {
     "data": {
      "text/plain": [
       "True"
      ]
     },
     "execution_count": 35,
     "metadata": {},
     "output_type": "execute_result"
    }
   ],
   "source": [
    "id(original_dict[\"dict_key\"][\"city\"])==id(copy_dict[\"dict_key\"][\"city\"])"
   ]
  }
 ],
 "metadata": {
  "kernelspec": {
   "display_name": "venv",
   "language": "python",
   "name": "python3"
  },
  "language_info": {
   "codemirror_mode": {
    "name": "ipython",
    "version": 3
   },
   "file_extension": ".py",
   "mimetype": "text/x-python",
   "name": "python",
   "nbconvert_exporter": "python",
   "pygments_lexer": "ipython3",
   "version": "3.8.10"
  }
 },
 "nbformat": 4,
 "nbformat_minor": 2
}
