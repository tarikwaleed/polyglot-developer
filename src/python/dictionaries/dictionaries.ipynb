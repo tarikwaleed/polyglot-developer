{
 "cells": [
  {
   "cell_type": "markdown",
   "metadata": {},
   "source": [
    "### copying dictionaries using copy"
   ]
  },
  {
   "cell_type": "code",
   "execution_count": null,
   "metadata": {},
   "outputs": [],
   "source": [
    "from copy import copy,deepcopy\n",
    "\n",
    "original_dict = {\n",
    "    \"str_key\": \"tarik\",\n",
    "    \"int_key\": 28,\n",
    "    \"list_key\": [1, 2, 3],\n",
    "    \"tuple_key\": (1, 2, 3),\n",
    "}\n",
    "\n",
    "the_copy = copy(original_dict)\n",
    "print(id(original_dict)==id(the_copy))\n",
    "print(id(original_dict[\"int_key\"]) == id(the_copy[\"int_key\"]))\n",
    "print(id(original_dict[\"list_key\"]) == id(the_copy[\"list_key\"]))\n",
    "print(id(original_dict[\"tuple_key\"]) == id(the_copy[\"tuple_key\"]))"
   ]
  }
 ],
 "metadata": {
  "kernelspec": {
   "display_name": "venv",
   "language": "python",
   "name": "python3"
  },
  "language_info": {
   "codemirror_mode": {
    "name": "ipython",
    "version": 3
   },
   "file_extension": ".py",
   "mimetype": "text/x-python",
   "name": "python",
   "nbconvert_exporter": "python",
   "pygments_lexer": "ipython3",
   "version": "3.8.10"
  }
 },
 "nbformat": 4,
 "nbformat_minor": 2
}
