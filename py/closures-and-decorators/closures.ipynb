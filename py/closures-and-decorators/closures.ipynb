{
 "cells": [
  {
   "cell_type": "markdown",
   "metadata": {},
   "source": [
    "when you return an inner function object, the interpter packs the function along with its containing environment"
   ]
  },
  {
   "cell_type": "code",
   "execution_count": 80,
   "metadata": {},
   "outputs": [],
   "source": [
    "def generate_power(exponent):\n",
    "    print(f'generate_power() dir is : {dir()}')\n",
    "    def power(base):\n",
    "        print(f'power() dir is : {dir()}')\n",
    "        return base ** exponent\n",
    "    return power"
   ]
  },
  {
   "cell_type": "code",
   "execution_count": 81,
   "metadata": {},
   "outputs": [
    {
     "name": "stdout",
     "output_type": "stream",
     "text": [
      "generate_power() dir is : ['exponent']\n",
      "generate_power() dir is : ['exponent']\n",
      "power() dir is : ['base', 'exponent']\n"
     ]
    },
    {
     "data": {
      "text/plain": [
       "16"
      ]
     },
     "execution_count": 81,
     "metadata": {},
     "output_type": "execute_result"
    }
   ],
   "source": [
    "raise_two=generate_power(2)\n",
    "raise_three=generate_power(3)\n",
    "raise_two(4)"
   ]
  },
  {
   "cell_type": "markdown",
   "metadata": {},
   "source": [
    "**Closures retains state between successive calls**"
   ]
  },
  {
   "cell_type": "code",
   "execution_count": null,
   "metadata": {},
   "outputs": [],
   "source": [
    "def mean():\n",
    "    \"\"\"\n",
    "    this is the `closure factory`\n",
    "    \"\"\"\n",
    "    sample = []\n",
    "    print(f'sample is {sample}')\n",
    "    def inner_mean(number):\n",
    "        \"\"\"\n",
    "        this is the `closure`\n",
    "        along with it's inclosing environment\n",
    "\n",
    "        the state `sample` remains in memory between successive calls of this closure when it's returned \n",
    "        by calling the enclosing function\n",
    "\n",
    "        \"\"\"\n",
    "        sample.append(number)\n",
    "        print(f'sample is {sample}')\n",
    "        return sum(sample) / len(sample)\n",
    "    return inner_mean"
   ]
  },
  {
   "cell_type": "code",
   "execution_count": null,
   "metadata": {},
   "outputs": [],
   "source": [
    "sample_mean=mean()\n",
    "sample_mean(100)\n",
    "sample_mean(200)\n",
    "sample_mean(300)\n",
    "sample_mean(400)"
   ]
  },
  {
   "cell_type": "markdown",
   "metadata": {},
   "source": [
    "**Modifying the Closure State**\n",
    ">:bulb: revisit this example after you understand python scopes and the `global` and `nonlocal` keywords\n",
    "If you want to dive deeper into this technique, then check out [Simple Tool for Simulating Classes Using Closures and Nested Scopes (Python Recipe).](https://code.activestate.com/recipes/578091-simple-tool-for-simulating-classes-using-closures-/) "
   ]
  },
  {
   "cell_type": "code",
   "execution_count": 78,
   "metadata": {},
   "outputs": [],
   "source": [
    "def make_point(x, y):\n",
    "    def point():\n",
    "        print(f\"Point({x}, {y})\")\n",
    "    def get_x():\n",
    "        return x\n",
    "    def get_y():\n",
    "        return y\n",
    "    def set_x(value):\n",
    "        nonlocal x\n",
    "        x = value\n",
    "    def set_y(value):\n",
    "        nonlocal y\n",
    "        y = value\n",
    "    # Attach getters and setters\n",
    "    point.get_x = get_x\n",
    "    point.set_x = set_x\n",
    "    point.get_y = get_y\n",
    "    point.set_y = set_y\n",
    "    return point"
   ]
  },
  {
   "cell_type": "code",
   "execution_count": 79,
   "metadata": {},
   "outputs": [],
   "source": [
    "point=make_point(1,2)"
   ]
  }
 ],
 "metadata": {
  "kernelspec": {
   "display_name": "venv",
   "language": "python",
   "name": "python3"
  },
  "language_info": {
   "codemirror_mode": {
    "name": "ipython",
    "version": 3
   },
   "file_extension": ".py",
   "mimetype": "text/x-python",
   "name": "python",
   "nbconvert_exporter": "python",
   "pygments_lexer": "ipython3",
   "version": "3.10.12"
  }
 },
 "nbformat": 4,
 "nbformat_minor": 2
}
