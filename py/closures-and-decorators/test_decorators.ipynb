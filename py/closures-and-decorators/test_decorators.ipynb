{
 "cells": [
  {
   "cell_type": "markdown",
   "metadata": {},
   "source": [
    "when the interpter sees the @ sign it behaves in the following way:\n",
    "    - it creates a new name with the same name of the function and binds to it the decorator function\n",
    "        countdown=register(countdown)\n",
    "    - it executes the decorator function if there is any code inside it other than the return\n",
    "    - now, the function is decorated and when you call it , the actual function that is executed\n",
    "    is the function returned by the decorator"
   ]
  },
  {
   "cell_type": "code",
   "execution_count": null,
   "metadata": {},
   "outputs": [],
   "source": [
    "from decorators import *"
   ]
  },
  {
   "cell_type": "code",
   "execution_count": null,
   "metadata": {},
   "outputs": [],
   "source": [
    "@timer_decorator\n",
    "def useless_function_that_wastes_some_time():\n",
    "    sum = 0\n",
    "    for _ in range(10_000_000):\n",
    "        sum += _"
   ]
  },
  {
   "cell_type": "code",
   "execution_count": null,
   "metadata": {},
   "outputs": [],
   "source": [
    "@register\n",
    "def countdown(from_number):\n",
    "    if from_number < 1:\n",
    "        print(\"Liftoff!\")\n",
    "    else:\n",
    "        print(from_number)\n",
    "        countdown(from_number - 1)\n",
    "\n",
    "@register\n",
    "def say_hello(name):\n",
    "    return f\"Hello {name}\"\n",
    "\n",
    "\n",
    "@register\n",
    "def be_awesome(name):\n",
    "    return f\"Yo {name}, together we're the awesomest!\"\n",
    "\n",
    "import random\n",
    "def randomly_greet(name):\n",
    "    greeter, greeter_func = random.choice(list(PLUGINS.items()))\n",
    "    print(f\"Using {greeter!r}\")\n",
    "    # this is the same as\n",
    "    print(f\"Using {repr(greeter)}\")\n",
    "    return greeter_func(name)"
   ]
  },
  {
   "cell_type": "code",
   "execution_count": null,
   "metadata": {},
   "outputs": [],
   "source": [
    "@repeat(10)\n",
    "def say_hello():\n",
    "    print(\"Hello\")\n",
    "    return \"a\"\n",
    "\n",
    "say_hello()"
   ]
  }
 ],
 "metadata": {
  "language_info": {
   "name": "python"
  }
 },
 "nbformat": 4,
 "nbformat_minor": 2
}
