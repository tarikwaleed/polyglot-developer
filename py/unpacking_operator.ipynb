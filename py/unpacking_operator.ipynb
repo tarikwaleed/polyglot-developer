{
 "cells": [
  {
   "cell_type": "code",
   "execution_count": 12,
   "metadata": {},
   "outputs": [
    {
     "name": "stdout",
     "output_type": "stream",
     "text": [
      "('hello', 10, True)\n",
      "{'param1': 10, 'param2': 'hello', 'param3': True}\n"
     ]
    }
   ],
   "source": [
    "def example_function(*args,**kwargs):\n",
    "    print(args)\n",
    "    print(kwargs)\n",
    "\n",
    "my_dict = {'param1': 10, 'param2': 'hello', 'param3': True}\n",
    "my_list=['hello',10,True]\n",
    "\n",
    "example_function(*my_list,**my_dict)\n"
   ]
  }
 ],
 "metadata": {
  "kernelspec": {
   "display_name": "venv",
   "language": "python",
   "name": "python3"
  },
  "language_info": {
   "codemirror_mode": {
    "name": "ipython",
    "version": 3
   },
   "file_extension": ".py",
   "mimetype": "text/x-python",
   "name": "python",
   "nbconvert_exporter": "python",
   "pygments_lexer": "ipython3",
   "version": "3.10.12"
  }
 },
 "nbformat": 4,
 "nbformat_minor": 2
}
