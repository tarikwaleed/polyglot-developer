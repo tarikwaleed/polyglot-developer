{
 "cells": [
  {
   "cell_type": "markdown",
   "metadata": {},
   "source": [
    "##### Exercise 1: Range with Step\n",
    "Implement a custom iterable class that behaves similar to the built-in range function but includes a step parameter."
   ]
  },
  {
   "cell_type": "code",
   "execution_count": null,
   "metadata": {},
   "outputs": [],
   "source": [
    "class MyRange():\n",
    "  def __init__(self,start,end,step) -> None:\n",
    "    self.start=start\n",
    "    self.current=start\n",
    "    self.end=end\n",
    "    self.step=step\n",
    "  \n",
    "  def __iter__(self):\n",
    "    return self\n",
    "  \n",
    "  def __next__(self):\n",
    "    if self.current<self.end:\n",
    "      result=self.current\n",
    "      self.current+=self.step\n",
    "      return result\n",
    "    else:\n",
    "      raise StopIteration"
   ]
  },
  {
   "cell_type": "code",
   "execution_count": null,
   "metadata": {},
   "outputs": [],
   "source": [
    "for _ in MyRange(1,10,2):\n",
    "  print(_)"
   ]
  },
  {
   "cell_type": "code",
   "execution_count": null,
   "metadata": {},
   "outputs": [],
   "source": [
    "for _ in range(1,10,2):\n",
    "  print(_)"
   ]
  },
  {
   "cell_type": "markdown",
   "metadata": {},
   "source": [
    "##### Exercise 2: Fibonacci Sequence\n",
    "Create an iterable class that generates the Fibonacci sequence up to a specified limit."
   ]
  },
  {
   "cell_type": "code",
   "execution_count": 26,
   "metadata": {},
   "outputs": [],
   "source": [
    "class MyFibonacci():\n",
    "  def __init__(self) :\n",
    "    pass\n",
    "  def __iter__(self) :\n",
    "    pass\n",
    "  def __next__(self) :\n",
    "    pass"
   ]
  },
  {
   "cell_type": "code",
   "execution_count": null,
   "metadata": {},
   "outputs": [],
   "source": []
  },
  {
   "cell_type": "markdown",
   "metadata": {},
   "source": [
    "##### Exercise 3: Prime Numbers\n",
    "\n",
    "Build an iterable class that generates prime numbers up to a given limit."
   ]
  },
  {
   "cell_type": "markdown",
   "metadata": {},
   "source": [
    "##### Exercise 4: Alphabet Iterator\n",
    "\n",
    "Create an iterable class that iterates over the letters of the alphabet."
   ]
  },
  {
   "cell_type": "markdown",
   "metadata": {},
   "source": [
    "##### Exercise 5: Custom Iterable\n",
    "\n",
    "Think of a sequence or pattern you find interesting and create a custom iterable class to generate that sequence. For example, you could create an iterable for square numbers, cube numbers, etc."
   ]
  }
 ],
 "metadata": {
  "kernelspec": {
   "display_name": "venv",
   "language": "python",
   "name": "python3"
  },
  "language_info": {
   "codemirror_mode": {
    "name": "ipython",
    "version": 3
   },
   "file_extension": ".py",
   "mimetype": "text/x-python",
   "name": "python",
   "nbconvert_exporter": "python",
   "pygments_lexer": "ipython3",
   "version": "3.10.12"
  }
 },
 "nbformat": 4,
 "nbformat_minor": 2
}
